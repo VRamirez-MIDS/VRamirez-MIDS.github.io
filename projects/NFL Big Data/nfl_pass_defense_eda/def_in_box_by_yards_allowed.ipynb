{
 "cells": [
  {
   "cell_type": "markdown",
   "metadata": {},
   "source": [
    "## Project 2 Assignment - W200 Introduction to Data Science Programming, UC Berkeley MIDS"
   ]
  },
  {
   "cell_type": "markdown",
   "metadata": {},
   "source": [
    "## File name: def_in_box_by_yards_allowed.ipynb\n",
    "### Author: Victor Ramirez\n",
    "#### Date created: 11/05/2021\n",
    "#### Date last modified: 1/27/2021\n",
    "#### Python Version: 3.8\n",
    "\n",
    "### What is the optimal number of defenders in the box? \n",
    "- The defense needs to know which defender count will lead to the least yards allowed. \n",
    "- We analyzed the defender count which leads the least average yards allowed. \n",
    "\n",
    "1. Data Processing \n",
    "    - Loading nfl data from: https://www.kaggle.com/c/nfl-big-data-bowl-2021/overview\n",
    "    - Combine data from games and plays\n",
    "2. Results\n",
    "    - Calculate the mean of yards per play\n",
    "    - Group data by number of defenders in the box\n",
    "3. Charts\n",
    "    - Display the bar chart with optimal number of players in the box"
   ]
  },
  {
   "cell_type": "code",
   "execution_count": null,
   "metadata": {},
   "outputs": [
    {
     "ename": "",
     "evalue": "",
     "output_type": "error",
     "traceback": [
      "\u001b[1;31mFailed to start the Kernel. \n",
      "\u001b[1;31mUnable to start Kernel 'base (Python 3.9.7)' due to connection timeout. \n",
      "View Jupyter <a href='command:jupyter.viewOutput'>log</a> for further details."
     ]
    }
   ],
   "source": [
    "'''\n",
    "Load all the required import statements\n",
    "Load the required data\n",
    "'''\n",
    "import pandas as pd\n",
    "import matplotlib.pyplot as plt\n",
    "import numpy as np\n",
    "from os.path import join, dirname, abspath\n",
    "from pandas.plotting import scatter_matrix\n",
    "import seaborn as sns\n",
    "from matplotlib.pyplot import figure\n",
    "\n",
    "\n",
    "\n",
    "games = pd.read_csv('F:/code/uc berkeley/VRamirez-MIDS.github.io/projects/NFL Big Data/nfl_pass_defense_eda/data/games.csv')\n",
    "plays = pd.read_csv('F:/code/uc berkeley/VRamirez-MIDS.github.io/projects/NFL Big Data/nfl_pass_defense_eda/data/plays.csv')"
   ]
  },
  {
   "cell_type": "code",
   "execution_count": null,
   "metadata": {},
   "outputs": [
    {
     "ename": "",
     "evalue": "",
     "output_type": "error",
     "traceback": [
      "\u001b[1;31mFailed to start the Kernel. \n",
      "\u001b[1;31mUnable to start Kernel 'base (Python 3.9.7)' due to connection timeout. \n",
      "View Jupyter <a href='command:jupyter.viewOutput'>log</a> for further details."
     ]
    }
   ],
   "source": [
    "# merge data\n",
    "df_plays_full = pd.merge(games,\n",
    "                      plays,\n",
    "                      how='outer',\n",
    "                      on='gameId')\n",
    "\n",
    "df_plays_full.head()"
   ]
  },
  {
   "cell_type": "code",
   "execution_count": null,
   "metadata": {},
   "outputs": [
    {
     "ename": "",
     "evalue": "",
     "output_type": "error",
     "traceback": [
      "\u001b[1;31mFailed to start the Kernel. \n",
      "\u001b[1;31mUnable to start Kernel 'base (Python 3.9.7)' due to connection timeout. \n",
      "View Jupyter <a href='command:jupyter.viewOutput'>log</a> for further details."
     ]
    }
   ],
   "source": [
    "\n",
    "# Question - Defenders in the box by Offensive Outcome of the Play by EPA\n",
    "# Key features -  defendersInTheBox, offensePlayResult, playResult, epa\n",
    "\n",
    "df_combined = pd.DataFrame(df_plays_full[['defendersInTheBox','offensePlayResult','playResult','epa']].copy())\n",
    "df_combined = df_combined[(df_combined['defendersInTheBox'] >= 4) & (df_combined['defendersInTheBox'] <= 8)]\n",
    "\n",
    "print(df_combined.head())\n",
    "print(df_combined.tail())"
   ]
  },
  {
   "cell_type": "code",
   "execution_count": null,
   "metadata": {},
   "outputs": [
    {
     "ename": "",
     "evalue": "",
     "output_type": "error",
     "traceback": [
      "\u001b[1;31mFailed to start the Kernel. \n",
      "\u001b[1;31mUnable to start Kernel 'base (Python 3.9.7)' due to connection timeout. \n",
      "View Jupyter <a href='command:jupyter.viewOutput'>log</a> for further details."
     ]
    }
   ],
   "source": [
    "\n",
    "# data distribution plots below\n",
    "\n",
    "sns.displot(df_combined['defendersInTheBox'], color='green', height=5, aspect=1.5)\n",
    "plt.figure()\n",
    "sns.displot(df_combined['offensePlayResult'], color='green', height=5, aspect=1.5)\n",
    "plt.figure()\n",
    "sns.displot(df_combined['playResult'], color='green', height=5, aspect=1.5)\n",
    "plt.figure()\n",
    "sns.displot(df_combined['epa'], color='green', height=5, aspect=1.5)"
   ]
  },
  {
   "cell_type": "code",
   "execution_count": null,
   "metadata": {},
   "outputs": [
    {
     "ename": "",
     "evalue": "",
     "output_type": "error",
     "traceback": [
      "\u001b[1;31mFailed to start the Kernel. \n",
      "\u001b[1;31mUnable to start Kernel 'base (Python 3.9.7)' due to connection timeout. \n",
      "View Jupyter <a href='command:jupyter.viewOutput'>log</a> for further details."
     ]
    }
   ],
   "source": [
    "\n",
    "# create defenders in the box mean data frames \n",
    "mean_grouped_by_defendersInTheBox = pd.DataFrame(df_combined.groupby('defendersInTheBox', as_index=False).agg({'playResult':'mean'}))\n",
    "# focus on < 4 and < 8\n",
    "mean_grouped_by_defendersInTheBox = pd.DataFrame(df_combined[(df_combined['defendersInTheBox'] >= 4) & (df_combined['defendersInTheBox'] <= 8)])\n",
    "print('cols', list(mean_grouped_by_defendersInTheBox.columns))\n",
    "\n",
    "# create epa mean data frames \n",
    "epa_mean_grouped_by_defendersInTheBox = pd.DataFrame(df_combined.groupby('defendersInTheBox', as_index=False).agg({'epa':'mean'}))\n",
    "# focus on < 4 and < 8\n",
    "df_combined = pd.DataFrame(epa_mean_grouped_by_defendersInTheBox[(df_combined['defendersInTheBox'] >= 4) & (df_combined['defendersInTheBox'] <= 8)])\n",
    "print('cols', list(epa_mean_grouped_by_defendersInTheBox.columns))\n"
   ]
  },
  {
   "cell_type": "code",
   "execution_count": null,
   "metadata": {},
   "outputs": [
    {
     "ename": "",
     "evalue": "",
     "output_type": "error",
     "traceback": [
      "\u001b[1;31mFailed to start the Kernel. \n",
      "\u001b[1;31mUnable to start Kernel 'base (Python 3.9.7)' due to connection timeout. \n",
      "View Jupyter <a href='command:jupyter.viewOutput'>log</a> for further details."
     ]
    }
   ],
   "source": [
    "sns.set(rc = {'figure.figsize':(12,12)})\n",
    "\n",
    "sns.catplot(x='defendersInTheBox', y='playResult', data=mean_grouped_by_defendersInTheBox)\n",
    "plt.figure()\n",
    "\n",
    "# pallete = ‘seagreen’ --- Seaborn color map\n",
    "# focus on 4 - 8\n",
    "\n",
    "sns.barplot(x='defendersInTheBox', y='playResult', data=mean_grouped_by_defendersInTheBox, capsize=.2).set_title('Optimal Defenders in the Box')\n",
    "plt.figure()"
   ]
  },
  {
   "cell_type": "code",
   "execution_count": null,
   "metadata": {},
   "outputs": [
    {
     "ename": "",
     "evalue": "",
     "output_type": "error",
     "traceback": [
      "\u001b[1;31mFailed to start the Kernel. \n",
      "\u001b[1;31mUnable to start Kernel 'base (Python 3.9.7)' due to connection timeout. \n",
      "View Jupyter <a href='command:jupyter.viewOutput'>log</a> for further details."
     ]
    }
   ],
   "source": [
    "# all defender counts charted\n",
    "sns.barplot(x='defendersInTheBox', y='down', data=df_plays_full).set_title('Optimal Defenders in the Box')\n",
    "plt.figure()"
   ]
  },
  {
   "cell_type": "code",
   "execution_count": null,
   "metadata": {},
   "outputs": [
    {
     "ename": "",
     "evalue": "",
     "output_type": "error",
     "traceback": [
      "\u001b[1;31mFailed to start the Kernel. \n",
      "\u001b[1;31mUnable to start Kernel 'base (Python 3.9.7)' due to connection timeout. \n",
      "View Jupyter <a href='command:jupyter.viewOutput'>log</a> for further details."
     ]
    }
   ],
   "source": [
    "# ave eps charted \n",
    "sns.set(rc = {'figure.figsize':(12,8)})\n",
    "sns.barplot(x='defendersInTheBox', y='epa', data=epa_mean_grouped_by_defendersInTheBox)"
   ]
  }
 ],
 "metadata": {
  "kernelspec": {
   "display_name": "Python 3.9.7 ('base')",
   "language": "python",
   "name": "python3"
  },
  "language_info": {
   "codemirror_mode": {
    "name": "ipython",
    "version": 3
   },
   "file_extension": ".py",
   "mimetype": "text/x-python",
   "name": "python",
   "nbconvert_exporter": "python",
   "pygments_lexer": "ipython3",
   "version": "3.9.7"
  },
  "orig_nbformat": 4,
  "vscode": {
   "interpreter": {
    "hash": "ad2bdc8ecc057115af97d19610ffacc2b4e99fae6737bb82f5d7fb13d2f2c186"
   }
  }
 },
 "nbformat": 4,
 "nbformat_minor": 2
}
